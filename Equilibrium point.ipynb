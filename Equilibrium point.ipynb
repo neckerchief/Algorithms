{
 "cells": [
  {
   "cell_type": "markdown",
   "id": "1e79a7c4",
   "metadata": {},
   "source": [
    "#### <a href=\"https://practice.geeksforgeeks.org/problems/equilibrium-point-1587115620/1?page=1&status[]=solved&curated[]=1&sortBy=submissions\" target=\"_blank\"> $\\color{orange}{\\text{LINK TO THE PROBLEM}}$</a>\n",
    "\n",
    "Given an array A of n positive numbers. The task is to find the first Equilibrium Point in an array. \n",
    "Equilibrium Point in an array is a position such that the sum of elements before it is equal to the sum of elements after it.\n",
    "\n",
    "Note: Retun the index of Equilibrium point. (1-based index)\n",
    "\n",
    "* Expected Time Complexity: O(N)\n",
    "\n",
    "* Expected Auixilliary Space: O(1)"
   ]
  },
  {
   "cell_type": "code",
   "execution_count": null,
   "id": "f83a3c1f",
   "metadata": {},
   "outputs": [],
   "source": [
    "def equilibriumPoint(A, N):\n",
    "    \n",
    "    if N == 1:\n",
    "        return 1\n",
    "        \n",
    "    sumLeft = A[0]\n",
    "    sumRight = sum(A[2:])\n",
    "\n",
    "    for i in range(1, N-1):\n",
    "        if sumLeft == sumRight:\n",
    "            return i+1\n",
    "        else:\n",
    "            sumLeft += A[i]\n",
    "            sumRight -= A[i+1]\n",
    "    return -1\n"
   ]
  }
 ],
 "metadata": {
  "kernelspec": {
   "display_name": "Python 3 (ipykernel)",
   "language": "python",
   "name": "python3"
  },
  "language_info": {
   "codemirror_mode": {
    "name": "ipython",
    "version": 3
   },
   "file_extension": ".py",
   "mimetype": "text/x-python",
   "name": "python",
   "nbconvert_exporter": "python",
   "pygments_lexer": "ipython3",
   "version": "3.9.13"
  }
 },
 "nbformat": 4,
 "nbformat_minor": 5
}
