{
 "cells": [
  {
   "cell_type": "markdown",
   "id": "1a088036",
   "metadata": {},
   "source": [
    "#### <a href=\"https://practice.geeksforgeeks.org/problems/2e068e2342b9c9f40cfda1ed8e8119542d748fd8/1?page=1&status[]=solved&sortBy=submissions\" target=\"_blank\"> $\\color{orange}{\\text{LINK TO THE PROBLEM}}$</a>\n",
    "\n",
    "Given a binary matrix of dimensions  with R rows and C columns. Start from cell(0, 0), moving in the right direction. Perform the following operations: \n",
    "\n",
    "* If the value of matrix[i][j] is 0, then traverse in the same direction and check the next value.\n",
    "* If the value of matrix[i][j] is 1, then update matrix[i][j] to 0 and change the current direction clockwise. ie - up, right, down, or left directions change to right, down, left, and up respectively.\n",
    "\n",
    "Find the index of the cell where you will be forced to exit the matrix while performing the given traversal. \n",
    "\n",
    "* Expected Time Complexity: O(N)\n",
    "\n",
    "* Expected Auixilliary Space: O(1)"
   ]
  },
  {
   "cell_type": "code",
   "execution_count": 50,
   "id": "9fc0efa9",
   "metadata": {},
   "outputs": [],
   "source": [
    "def endPoints(matrix, R, C):\n",
    "    i=0\n",
    "    j=0\n",
    "    k=0\n",
    "    direction = [(0,1),(1,0),(0,-1),(-1,0)]\n",
    "    while 0<=i<R and 0<=j<C:\n",
    "        \n",
    "        if matrix[i][j]==0:\n",
    "            i += direction[k%4][0]\n",
    "            j += direction[k%4][1]\n",
    "        else:\n",
    "            matrix[i][j]=0\n",
    "            k += 1\n",
    "            i += direction[k%4][0]\n",
    "            j += direction[k%4][1]\n",
    "        \n",
    "    return (i - direction[k%4][0],j - direction[k%4][1])            "
   ]
  }
 ],
 "metadata": {
  "kernelspec": {
   "display_name": "Python 3 (ipykernel)",
   "language": "python",
   "name": "python3"
  },
  "language_info": {
   "codemirror_mode": {
    "name": "ipython",
    "version": 3
   },
   "file_extension": ".py",
   "mimetype": "text/x-python",
   "name": "python",
   "nbconvert_exporter": "python",
   "pygments_lexer": "ipython3",
   "version": "3.9.13"
  }
 },
 "nbformat": 4,
 "nbformat_minor": 5
}
