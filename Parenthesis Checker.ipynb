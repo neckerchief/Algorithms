{
 "cells": [
  {
   "cell_type": "markdown",
   "id": "ee87211b",
   "metadata": {},
   "source": [
    "#### <a href=\"https://practice.geeksforgeeks.org/problems/parenthesis-checker2744/1?page=1&status[]=solved&sortBy=submissions\" target=\"_blank\"> $\\color{orange}{\\text{LINK TO THE PROBLEM}}$</a>\n",
    "\n",
    "Given an expression string x. Examine whether the pairs and the orders of {,},(,),[,] are correct in exp.\n",
    "For example, the function should return 'true' for exp = [()]{}{[()()]()} and 'false' for exp = [(]).\n",
    "\n",
    "Note: The drive code prints \"balanced\" if function return true, otherwise it prints \"not balanced\".\n",
    "\n",
    "* Expected Time Complexity: O(|x|)\n",
    "\n",
    "* Expected Auixilliary Space: O(|x|)"
   ]
  },
  {
   "cell_type": "code",
   "execution_count": 51,
   "id": "09079f6a",
   "metadata": {},
   "outputs": [],
   "source": [
    "def ispar(x):\n",
    "    \n",
    "    if len(x) % 2 == 1: # odd number of brackets can't be ok\n",
    "        return False\n",
    "    \n",
    "    par_dic = {'(' : ')', '[' : ']', '{' : '}'} # dictionary with corresponding closing brackets\n",
    "    open_bra = ['(','[','{'] # opnening brackets\n",
    "    temp = []\n",
    "    \n",
    "    for bra in x:\n",
    "        if bra in open_bra:\n",
    "            temp.append(bra)\n",
    "        elif temp != [] and bra == par_dic[temp[-1]]:\n",
    "            temp.pop()\n",
    "        else:\n",
    "            return False\n",
    "        \n",
    "    if temp == []:\n",
    "        return True\n",
    "    else:\n",
    "        return False"
   ]
  }
 ],
 "metadata": {
  "kernelspec": {
   "display_name": "Python 3 (ipykernel)",
   "language": "python",
   "name": "python3"
  },
  "language_info": {
   "codemirror_mode": {
    "name": "ipython",
    "version": 3
   },
   "file_extension": ".py",
   "mimetype": "text/x-python",
   "name": "python",
   "nbconvert_exporter": "python",
   "pygments_lexer": "ipython3",
   "version": "3.9.13"
  }
 },
 "nbformat": 4,
 "nbformat_minor": 5
}
