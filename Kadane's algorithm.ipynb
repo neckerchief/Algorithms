{
 "cells": [
  {
   "cell_type": "markdown",
   "id": "f63d5427",
   "metadata": {},
   "source": [
    "#### <a href=\"https://practice.geeksforgeeks.org/problems/kadanes-algorithm-1587115620/1?page=1&status[]=solved&curated[]=1&sortBy=submissions\" target=\"_blank\"> $\\color{orange}{\\text{LINK TO THE PROBLEM}}$</a>\n",
    "\n",
    "Given an array Arr[] of N integers. Find the contiguous sub-array(containing at least one number) which has the maximum sum and return its sum.\n",
    "\n",
    "* Expected Time Complexity: O(N)\n",
    "\n",
    "* Expected Auixilliary Space: O(1)"
   ]
  },
  {
   "cell_type": "code",
   "execution_count": null,
   "id": "abc3b014",
   "metadata": {},
   "outputs": [],
   "source": [
    "def maxSubArraySum(arr,N):\n",
    "    \n",
    "    currMax = arr[0]\n",
    "    maxSum = arr[0]\n",
    "    \n",
    "    for i in range(1,N):\n",
    "        currMax = max(arr[i], currMax + arr[i])\n",
    "        maxSum = max(maxSum, currMax)\n",
    "    \n",
    "    return maxSum"
   ]
  }
 ],
 "metadata": {
  "kernelspec": {
   "display_name": "Python 3 (ipykernel)",
   "language": "python",
   "name": "python3"
  },
  "language_info": {
   "codemirror_mode": {
    "name": "ipython",
    "version": 3
   },
   "file_extension": ".py",
   "mimetype": "text/x-python",
   "name": "python",
   "nbconvert_exporter": "python",
   "pygments_lexer": "ipython3",
   "version": "3.9.13"
  }
 },
 "nbformat": 4,
 "nbformat_minor": 5
}
