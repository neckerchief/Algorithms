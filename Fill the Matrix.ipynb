{
 "cells": [
  {
   "cell_type": "markdown",
   "id": "45cb83bb",
   "metadata": {
    "slideshow": {
     "slide_type": "-"
    }
   },
   "source": [
    "#### <a href=\"https://practice.geeksforgeeks.org/problems/2145720aebf8ea0b07f76b17217b3353a0fbea7f/1?page=1&status[]=solved&sortBy=submissions\" target=\"_blank\"> $\\color{orange}{\\text{LINK TO THE PROBLEM}}$</a>\n",
    "\n",
    "Given a matrix with dimensions N x M, entirely filled with zeroes except for one position at co-ordinates X and Y containing '1'. Find the minimum number of iterations in which the whole matrix can be filled with ones.\n",
    "\n",
    "Note: In one iteration, '1' can be filled in the 4 neighbouring elements of a cell containing '1'.\n",
    "\n",
    "* Expected Time Complexity: O(N * M) \n",
    "\n",
    "* Expected Auxiliary Space: O(1)"
   ]
  },
  {
   "cell_type": "code",
   "execution_count": 1,
   "id": "73c08cd5",
   "metadata": {},
   "outputs": [],
   "source": [
    "def minIteration(N, M, X, Y):\n",
    "    \n",
    "    return max(M-Y, Y-1) + max(N-X, X-1)"
   ]
  }
 ],
 "metadata": {
  "kernelspec": {
   "display_name": "Python 3 (ipykernel)",
   "language": "python",
   "name": "python3"
  },
  "language_info": {
   "codemirror_mode": {
    "name": "ipython",
    "version": 3
   },
   "file_extension": ".py",
   "mimetype": "text/x-python",
   "name": "python",
   "nbconvert_exporter": "python",
   "pygments_lexer": "ipython3",
   "version": "3.9.13"
  }
 },
 "nbformat": 4,
 "nbformat_minor": 5
}
