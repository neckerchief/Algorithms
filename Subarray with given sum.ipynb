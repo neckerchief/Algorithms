{
 "cells": [
  {
   "cell_type": "markdown",
   "id": "069ba3f7",
   "metadata": {},
   "source": [
    "#### <a href=\"https://practice.geeksforgeeks.org/problems/subarray-with-given-sum-1587115621/1?page=1&status[]=solved&curated[]=1&sortBy=submissions\" target=\"_blank\"> $\\color{orange}{\\text{LINK TO THE PROBLEM}}$</a>\n",
    "\n",
    "Given an unsorted array A of size N that contains only non-negative integers, find a continuous sub-array that adds to a given number S and return the left and right index(1-based indexing) of that subarray.\n",
    "\n",
    "In case of multiple subarrays, return the subarray indexes which come first on moving from left to right.\n",
    "\n",
    "Note: You have to return an ArrayList consisting of two elements left and right. In case no such subarray exists return an array consisting of element -1.\n",
    "\n",
    "* Expected Time Complexity: O(N)\n",
    "\n",
    "* Expected Auixilliary Space: O(1)"
   ]
  },
  {
   "cell_type": "code",
   "execution_count": null,
   "id": "0bb3488d",
   "metadata": {},
   "outputs": [],
   "source": [
    "def subArraySum(arr, n, s): \n",
    "    start = 0\n",
    "    currSum = 0\n",
    "    for i in range(n):\n",
    "        currSum += arr[i]\n",
    "        while currSum > s and start < i:\n",
    "            currSum -= arr[start]\n",
    "            start += 1\n",
    "        if currSum == s:\n",
    "            return list([start+1, i+1])\n",
    "    return list([-1])"
   ]
  }
 ],
 "metadata": {
  "kernelspec": {
   "display_name": "Python 3 (ipykernel)",
   "language": "python",
   "name": "python3"
  },
  "language_info": {
   "codemirror_mode": {
    "name": "ipython",
    "version": 3
   },
   "file_extension": ".py",
   "mimetype": "text/x-python",
   "name": "python",
   "nbconvert_exporter": "python",
   "pygments_lexer": "ipython3",
   "version": "3.9.13"
  }
 },
 "nbformat": 4,
 "nbformat_minor": 5
}
