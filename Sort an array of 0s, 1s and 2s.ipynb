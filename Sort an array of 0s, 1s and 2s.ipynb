{
 "cells": [
  {
   "cell_type": "markdown",
   "id": "c03dc22b",
   "metadata": {},
   "source": [
    "#### <a href=\"https://practice.geeksforgeeks.org/problems/sort-an-array-of-0s-1s-and-2s4231/1?page=1&status[]=solved&curated[]=1&sortBy=submissions\" target=\"_blank\"> $\\color{orange}{\\text{LINK TO THE PROBLEM}}$</a>\n",
    "\n",
    "Given an array of size N containing only 0s, 1s, and 2s; sort the array in ascending order.\n",
    "\n",
    "* Expected Time Complexity: O(N)\n",
    "\n",
    "* Expected Auixilliary Space: O(1)"
   ]
  },
  {
   "cell_type": "code",
   "execution_count": 27,
   "id": "09825d0f",
   "metadata": {},
   "outputs": [],
   "source": [
    "def sort012(arr, n):\n",
    "    \n",
    "    zeros = arr.count(0)\n",
    "    ones = arr.count(1)\n",
    "    twos = arr.count(2)\n",
    "    \n",
    "    newarr = zeros*[0] + ones*[1] + twos*[2]\n",
    "    arr[:] = newarr[:]\n",
    "    \n",
    "    return arr"
   ]
  }
 ],
 "metadata": {
  "kernelspec": {
   "display_name": "Python 3 (ipykernel)",
   "language": "python",
   "name": "python3"
  },
  "language_info": {
   "codemirror_mode": {
    "name": "ipython",
    "version": 3
   },
   "file_extension": ".py",
   "mimetype": "text/x-python",
   "name": "python",
   "nbconvert_exporter": "python",
   "pygments_lexer": "ipython3",
   "version": "3.9.13"
  }
 },
 "nbformat": 4,
 "nbformat_minor": 5
}
